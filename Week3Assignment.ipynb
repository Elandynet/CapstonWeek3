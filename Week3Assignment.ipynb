{
 "cells": [
  {
   "cell_type": "markdown",
   "metadata": {},
   "source": [
    "<h1>Capstone Project Week 3 Assignment</h1>\n",
    "<p>By Andres Lopez</p>\n",
    "<br>\n",
    "<p>This notebook has three parts:</p>\n",
    "<ul><li>Web Scraping and Dataframe preprocessing</li><li>Adding Latitude and Longitude to the Dataframe</li>\n",
    "    <li>Exploring and Clustering</li></ul>"
   ]
  },
  {
   "cell_type": "markdown",
   "metadata": {},
   "source": [
    "<h3>Part I - Web scraping and dataframe pre-processing</h3>"
   ]
  },
  {
   "cell_type": "code",
   "execution_count": 1,
   "metadata": {},
   "outputs": [],
   "source": [
    "import pandas as pd\n",
    "import requests\n",
    "from bs4 import BeautifulSoup"
   ]
  },
  {
   "cell_type": "code",
   "execution_count": 2,
   "metadata": {},
   "outputs": [],
   "source": [
    "r = requests.get('https://en.wikipedia.org/wiki/List_of_postal_codes_of_Canada:_M')\n",
    "soup = BeautifulSoup(r.text, 'html.parser')\n",
    "results = soup.find_all('table', attrs={'class':'wikitable sortable'})"
   ]
  },
  {
   "cell_type": "markdown",
   "metadata": {},
   "source": [
    "<p><strong>The cells of the first row will be store in a list to create the headers of the dataframe</strong></p>"
   ]
  },
  {
   "cell_type": "code",
   "execution_count": 3,
   "metadata": {},
   "outputs": [],
   "source": [
    "table_obj = results[0] #gets the first row of the table\n",
    "headers = table_obj.find_all('th') #gets each heaader\n",
    "col_head = [] \n",
    "for x in headers:\n",
    "    header_text = x\n",
    "    col_head.append(header_text.text[0:-1])"
   ]
  },
  {
   "cell_type": "markdown",
   "metadata": {},
   "source": [
    "<p><strong>The cells of all the other rows will be store in three lists, each with the content of one column</strong></p>"
   ]
  },
  {
   "cell_type": "code",
   "execution_count": 4,
   "metadata": {},
   "outputs": [],
   "source": [
    "rows = table_obj.find_all('tr')\n",
    "rows.pop(0) #the first row is the header row, already stored in the col_head list so it must be deleted here\n",
    "postal = []\n",
    "borough = []\n",
    "neigh = []\n",
    "for x in rows: #iteration to get the text in each row\n",
    "    c_content =[]\n",
    "    cells_obj = x\n",
    "    cells_list = cells_obj.find_all('td')\n",
    "    for y in cells_list: #iteration to get the text of each cell in a row\n",
    "        cell_text = y\n",
    "        c_content.append(cell_text.text[0:-1])\n",
    "    if 'Not assigned' not in c_content:  #if the Borough column says 'Not Assigned' the row will be ignored\n",
    "        postal.append(c_content[0])\n",
    "        borough.append(c_content[1])\n",
    "        if c_content[2] == \"\":       #If the Neighnorhood cell is blank, the text of the Bourough column will be copied\n",
    "            c_content[2] = c_content[1]\n",
    "        neigh.append(c_content[2])"
   ]
  },
  {
   "cell_type": "markdown",
   "metadata": {},
   "source": [
    "<p><strong>Making sure that no postal code is listed twice</strong></p>\n",
    "<p>The assignment instructions indicate that there is at least one postal code listed twice. However, that doesn't seem the case. I'm assuming the table has been edited since the assignment isntructions were posted.</p>"
   ]
  },
  {
   "cell_type": "code",
   "execution_count": 5,
   "metadata": {},
   "outputs": [
    {
     "name": "stdout",
     "output_type": "stream",
     "text": [
      "There are no duplicate zip codes\n"
     ]
    }
   ],
   "source": [
    "if len(postal) == len(set(postal)):\n",
    "    print(\"There are no duplicate zip codes\")\n",
    "else:\n",
    "    print(\"There are uplicate zip codes\")"
   ]
  },
  {
   "cell_type": "markdown",
   "metadata": {},
   "source": [
    "<p><strong>Create a dataframe using the lists with the data in the Wikipidia table</strong></p>"
   ]
  },
  {
   "cell_type": "code",
   "execution_count": 6,
   "metadata": {},
   "outputs": [
    {
     "data": {
      "text/html": [
       "<div>\n",
       "<style scoped>\n",
       "    .dataframe tbody tr th:only-of-type {\n",
       "        vertical-align: middle;\n",
       "    }\n",
       "\n",
       "    .dataframe tbody tr th {\n",
       "        vertical-align: top;\n",
       "    }\n",
       "\n",
       "    .dataframe thead th {\n",
       "        text-align: right;\n",
       "    }\n",
       "</style>\n",
       "<table border=\"1\" class=\"dataframe\">\n",
       "  <thead>\n",
       "    <tr style=\"text-align: right;\">\n",
       "      <th></th>\n",
       "      <th>index</th>\n",
       "      <th>Postal Code</th>\n",
       "      <th>Borough</th>\n",
       "      <th>Neighborhood</th>\n",
       "    </tr>\n",
       "  </thead>\n",
       "  <tbody>\n",
       "    <tr>\n",
       "      <th>0</th>\n",
       "      <td>6</td>\n",
       "      <td>M1B</td>\n",
       "      <td>Scarborough</td>\n",
       "      <td>Malvern / Rouge</td>\n",
       "    </tr>\n",
       "    <tr>\n",
       "      <th>1</th>\n",
       "      <td>12</td>\n",
       "      <td>M1C</td>\n",
       "      <td>Scarborough</td>\n",
       "      <td>Rouge Hill / Port Union / Highland Creek</td>\n",
       "    </tr>\n",
       "    <tr>\n",
       "      <th>2</th>\n",
       "      <td>18</td>\n",
       "      <td>M1E</td>\n",
       "      <td>Scarborough</td>\n",
       "      <td>Guildwood / Morningside / West Hill</td>\n",
       "    </tr>\n",
       "    <tr>\n",
       "      <th>3</th>\n",
       "      <td>22</td>\n",
       "      <td>M1G</td>\n",
       "      <td>Scarborough</td>\n",
       "      <td>Woburn</td>\n",
       "    </tr>\n",
       "    <tr>\n",
       "      <th>4</th>\n",
       "      <td>26</td>\n",
       "      <td>M1H</td>\n",
       "      <td>Scarborough</td>\n",
       "      <td>Cedarbrae</td>\n",
       "    </tr>\n",
       "  </tbody>\n",
       "</table>\n",
       "</div>"
      ],
      "text/plain": [
       "   index Postal Code      Borough                              Neighborhood\n",
       "0      6         M1B  Scarborough                           Malvern / Rouge\n",
       "1     12         M1C  Scarborough  Rouge Hill / Port Union / Highland Creek\n",
       "2     18         M1E  Scarborough       Guildwood / Morningside / West Hill\n",
       "3     22         M1G  Scarborough                                    Woburn\n",
       "4     26         M1H  Scarborough                                 Cedarbrae"
      ]
     },
     "execution_count": 6,
     "metadata": {},
     "output_type": "execute_result"
    }
   ],
   "source": [
    "table = {col_head[0]:postal, col_head[1]:borough, col_head[2]:neigh}\n",
    "df_toronto = pd.DataFrame(table)\n",
    "df_toronto.sort_values(by=['Postal Code'], inplace=True) #sorting is ncessary to add the coordenates columns later \n",
    "df_toronto.reset_index(inplace=True)\n",
    "df_toronto.head()"
   ]
  },
  {
   "cell_type": "code",
   "execution_count": 7,
   "metadata": {},
   "outputs": [
    {
     "data": {
      "text/plain": [
       "(103, 4)"
      ]
     },
     "execution_count": 7,
     "metadata": {},
     "output_type": "execute_result"
    }
   ],
   "source": [
    "df_toronto.shape"
   ]
  },
  {
   "cell_type": "markdown",
   "metadata": {},
   "source": [
    "<h3>Part II - Adding Latitude and Longitude</h3>\n",
    "<p>Since the assignment gives the option, I used the csv file instead of the Geocoder Python package</p>"
   ]
  },
  {
   "cell_type": "code",
   "execution_count": 8,
   "metadata": {},
   "outputs": [
    {
     "data": {
      "text/plain": [
       "(103, 3)"
      ]
     },
     "execution_count": 8,
     "metadata": {},
     "output_type": "execute_result"
    }
   ],
   "source": [
    "location = \"http://cocl.us/Geospatial_data\"\n",
    "df_coord = pd.read_csv(location)\n",
    "#sort the dataframe by postal code to make sure it aligns correctly with the df_toronto dataframe\n",
    "df_coord.sort_values(by=['Postal Code'], inplace=True) \n",
    "#let's make sure it has the same number of rows than df_toronto\n",
    "df_coord.shape"
   ]
  },
  {
   "cell_type": "code",
   "execution_count": 9,
   "metadata": {},
   "outputs": [
    {
     "data": {
      "text/html": [
       "<div>\n",
       "<style scoped>\n",
       "    .dataframe tbody tr th:only-of-type {\n",
       "        vertical-align: middle;\n",
       "    }\n",
       "\n",
       "    .dataframe tbody tr th {\n",
       "        vertical-align: top;\n",
       "    }\n",
       "\n",
       "    .dataframe thead th {\n",
       "        text-align: right;\n",
       "    }\n",
       "</style>\n",
       "<table border=\"1\" class=\"dataframe\">\n",
       "  <thead>\n",
       "    <tr style=\"text-align: right;\">\n",
       "      <th></th>\n",
       "      <th>Postal Code</th>\n",
       "      <th>Latitude</th>\n",
       "      <th>Longitude</th>\n",
       "    </tr>\n",
       "  </thead>\n",
       "  <tbody>\n",
       "    <tr>\n",
       "      <th>0</th>\n",
       "      <td>M1B</td>\n",
       "      <td>43.806686</td>\n",
       "      <td>-79.194353</td>\n",
       "    </tr>\n",
       "    <tr>\n",
       "      <th>1</th>\n",
       "      <td>M1C</td>\n",
       "      <td>43.784535</td>\n",
       "      <td>-79.160497</td>\n",
       "    </tr>\n",
       "    <tr>\n",
       "      <th>2</th>\n",
       "      <td>M1E</td>\n",
       "      <td>43.763573</td>\n",
       "      <td>-79.188711</td>\n",
       "    </tr>\n",
       "    <tr>\n",
       "      <th>3</th>\n",
       "      <td>M1G</td>\n",
       "      <td>43.770992</td>\n",
       "      <td>-79.216917</td>\n",
       "    </tr>\n",
       "    <tr>\n",
       "      <th>4</th>\n",
       "      <td>M1H</td>\n",
       "      <td>43.773136</td>\n",
       "      <td>-79.239476</td>\n",
       "    </tr>\n",
       "  </tbody>\n",
       "</table>\n",
       "</div>"
      ],
      "text/plain": [
       "  Postal Code   Latitude  Longitude\n",
       "0         M1B  43.806686 -79.194353\n",
       "1         M1C  43.784535 -79.160497\n",
       "2         M1E  43.763573 -79.188711\n",
       "3         M1G  43.770992 -79.216917\n",
       "4         M1H  43.773136 -79.239476"
      ]
     },
     "execution_count": 9,
     "metadata": {},
     "output_type": "execute_result"
    }
   ],
   "source": [
    "#let's take a look at the dataframe\n",
    "df_coord.head()"
   ]
  },
  {
   "cell_type": "markdown",
   "metadata": {},
   "source": [
    "<p><strong>Now we add the two columns with the coordentaes to the intitial dataframe</strong></p>\n",
    "<p>The dataframe with the Neighborhoods (df_toronto) and the dataframe with the coordinates (df_coord)\n",
    "both have the same number of rows and both are sorted by zip code, so it should be safe to add the coordinates from  \n",
    "df_coord to df_toronto</p>"
   ]
  },
  {
   "cell_type": "code",
   "execution_count": 10,
   "metadata": {},
   "outputs": [
    {
     "data": {
      "text/html": [
       "<div>\n",
       "<style scoped>\n",
       "    .dataframe tbody tr th:only-of-type {\n",
       "        vertical-align: middle;\n",
       "    }\n",
       "\n",
       "    .dataframe tbody tr th {\n",
       "        vertical-align: top;\n",
       "    }\n",
       "\n",
       "    .dataframe thead th {\n",
       "        text-align: right;\n",
       "    }\n",
       "</style>\n",
       "<table border=\"1\" class=\"dataframe\">\n",
       "  <thead>\n",
       "    <tr style=\"text-align: right;\">\n",
       "      <th></th>\n",
       "      <th>index</th>\n",
       "      <th>Postal Code</th>\n",
       "      <th>Borough</th>\n",
       "      <th>Neighborhood</th>\n",
       "      <th>Latitude</th>\n",
       "      <th>Longitude</th>\n",
       "    </tr>\n",
       "  </thead>\n",
       "  <tbody>\n",
       "    <tr>\n",
       "      <th>0</th>\n",
       "      <td>6</td>\n",
       "      <td>M1B</td>\n",
       "      <td>Scarborough</td>\n",
       "      <td>Malvern / Rouge</td>\n",
       "      <td>43.806686</td>\n",
       "      <td>-79.194353</td>\n",
       "    </tr>\n",
       "    <tr>\n",
       "      <th>1</th>\n",
       "      <td>12</td>\n",
       "      <td>M1C</td>\n",
       "      <td>Scarborough</td>\n",
       "      <td>Rouge Hill / Port Union / Highland Creek</td>\n",
       "      <td>43.784535</td>\n",
       "      <td>-79.160497</td>\n",
       "    </tr>\n",
       "    <tr>\n",
       "      <th>2</th>\n",
       "      <td>18</td>\n",
       "      <td>M1E</td>\n",
       "      <td>Scarborough</td>\n",
       "      <td>Guildwood / Morningside / West Hill</td>\n",
       "      <td>43.763573</td>\n",
       "      <td>-79.188711</td>\n",
       "    </tr>\n",
       "    <tr>\n",
       "      <th>3</th>\n",
       "      <td>22</td>\n",
       "      <td>M1G</td>\n",
       "      <td>Scarborough</td>\n",
       "      <td>Woburn</td>\n",
       "      <td>43.770992</td>\n",
       "      <td>-79.216917</td>\n",
       "    </tr>\n",
       "    <tr>\n",
       "      <th>4</th>\n",
       "      <td>26</td>\n",
       "      <td>M1H</td>\n",
       "      <td>Scarborough</td>\n",
       "      <td>Cedarbrae</td>\n",
       "      <td>43.773136</td>\n",
       "      <td>-79.239476</td>\n",
       "    </tr>\n",
       "  </tbody>\n",
       "</table>\n",
       "</div>"
      ],
      "text/plain": [
       "   index Postal Code      Borough                              Neighborhood  \\\n",
       "0      6         M1B  Scarborough                           Malvern / Rouge   \n",
       "1     12         M1C  Scarborough  Rouge Hill / Port Union / Highland Creek   \n",
       "2     18         M1E  Scarborough       Guildwood / Morningside / West Hill   \n",
       "3     22         M1G  Scarborough                                    Woburn   \n",
       "4     26         M1H  Scarborough                                 Cedarbrae   \n",
       "\n",
       "    Latitude  Longitude  \n",
       "0  43.806686 -79.194353  \n",
       "1  43.784535 -79.160497  \n",
       "2  43.763573 -79.188711  \n",
       "3  43.770992 -79.216917  \n",
       "4  43.773136 -79.239476  "
      ]
     },
     "execution_count": 10,
     "metadata": {},
     "output_type": "execute_result"
    }
   ],
   "source": [
    "df_toronto['Latitude'] = df_coord['Latitude']\n",
    "df_toronto['Longitude'] = df_coord['Longitude']\n",
    "df_toronto.head()"
   ]
  },
  {
   "cell_type": "markdown",
   "metadata": {},
   "source": [
    "<h3>Part III - Exploring and Clustering</h3>\n",
    "<p><strong>A. Exploring</strong></p>"
   ]
  },
  {
   "cell_type": "code",
   "execution_count": 11,
   "metadata": {},
   "outputs": [],
   "source": [
    "from geopy.geocoders import Nominatim\n",
    "import folium\n",
    "import matplotlib.cm as cm\n",
    "import matplotlib.colors as colors\n",
    "from sklearn.cluster import KMeans\n",
    "\n",
    "import folium\n",
    "from IPython.core.display import HTML\n",
    "m = folium.Map(location=[45.5236, -122.6750])\n",
    "HTML(m._repr_html_())\n",
    "\n",
    "import json\n",
    "from pandas.io.json import json_normalize\n",
    "%matplotlib inline"
   ]
  },
  {
   "cell_type": "markdown",
   "metadata": {},
   "source": [
    "<p><strong>Map with all the neighborhoods in Toronto</strong></p>"
   ]
  },
  {
   "cell_type": "code",
   "execution_count": 12,
   "metadata": {},
   "outputs": [
    {
     "name": "stdout",
     "output_type": "stream",
     "text": [
      "Toronto Coordinates: 43.6534817, -79.3839347.\n"
     ]
    }
   ],
   "source": [
    "address = 'Toronto, ON'\n",
    "geolocator = Nominatim(user_agent=\"tnto_explorer\")\n",
    "location = geolocator.geocode(address)\n",
    "latitude = location.latitude\n",
    "longitude = location.longitude\n",
    "print('Toronto Coordinates: {}, {}.'.format(latitude, longitude))"
   ]
  },
  {
   "cell_type": "code",
   "execution_count": 13,
   "metadata": {
    "scrolled": true
   },
   "outputs": [
    {
     "data": {
      "text/html": [
       "<div style=\"width:100%;\"><div style=\"position:relative;width:100%;height:0;padding-bottom:60%;\"><iframe src=\"about:blank\" style=\"position:absolute;width:100%;height:100%;left:0;top:0;border:none !important;\" data-html=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 onload=\"this.contentDocument.open();this.contentDocument.write(atob(this.getAttribute('data-html')));this.contentDocument.close();\" allowfullscreen webkitallowfullscreen mozallowfullscreen></iframe></div></div>"
      ],
      "text/plain": [
       "<folium.folium.Map at 0x1c20d538>"
      ]
     },
     "execution_count": 13,
     "metadata": {},
     "output_type": "execute_result"
    }
   ],
   "source": [
    "map_toronto = folium.Map(location=[latitude, longitude], zoom_start=10)\n",
    "for lat, lng, borough, neighborhood in zip(df_toronto['Latitude'], \n",
    "        df_toronto['Longitude'], df_toronto['Borough'], df_toronto['Neighborhood']):\n",
    "    label = '{}, {}'.format(neighborhood, borough)\n",
    "    label = folium.Popup(label, parse_html=True)\n",
    "    folium.CircleMarker(\n",
    "        [lat, lng],\n",
    "        radius=2,\n",
    "        popup=label,\n",
    "        color='#3186cc',\n",
    "        fill=True,\n",
    "        fill_color='#3186cc',\n",
    "        parse_html=False).add_to(map_toronto)  \n",
    "map_toronto"
   ]
  },
  {
   "cell_type": "markdown",
   "metadata": {},
   "source": [
    "<p><strong>Now let's focus on Downtown Toronto and explore it</strong></p>"
   ]
  },
  {
   "cell_type": "code",
   "execution_count": 14,
   "metadata": {},
   "outputs": [
    {
     "name": "stdout",
     "output_type": "stream",
     "text": [
      "Downtown Toronto has 19 neighborhoods.\n"
     ]
    }
   ],
   "source": [
    "downtown = df_toronto[df_toronto['Borough'] == 'Downtown Toronto'].reset_index(drop=True)\n",
    "print('Downtown Toronto has {} neighborhoods.'.format(downtown.shape[0]))"
   ]
  },
  {
   "cell_type": "code",
   "execution_count": 15,
   "metadata": {},
   "outputs": [
    {
     "name": "stdout",
     "output_type": "stream",
     "text": [
      "Downtown Toronto Coordinates: 43.6563221, -79.3809161.\n"
     ]
    }
   ],
   "source": [
    "address = 'Downtown Toronto, ON'\n",
    "geolocator = Nominatim(user_agent=\"dtwn_explorer\")\n",
    "location = geolocator.geocode(address)\n",
    "latitude = location.latitude\n",
    "longitude = location.longitude\n",
    "print('Downtown Toronto Coordinates: {}, {}.'.format(latitude, longitude))"
   ]
  },
  {
   "cell_type": "code",
   "execution_count": 16,
   "metadata": {},
   "outputs": [
    {
     "data": {
      "text/html": [
       "<div style=\"width:100%;\"><div style=\"position:relative;width:100%;height:0;padding-bottom:60%;\"><iframe src=\"about:blank\" style=\"position:absolute;width:100%;height:100%;left:0;top:0;border:none !important;\" data-html=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 onload=\"this.contentDocument.open();this.contentDocument.write(atob(this.getAttribute('data-html')));this.contentDocument.close();\" allowfullscreen webkitallowfullscreen mozallowfullscreen></iframe></div></div>"
      ],
      "text/plain": [
       "<folium.folium.Map at 0x1c2d36e8>"
      ]
     },
     "execution_count": 16,
     "metadata": {},
     "output_type": "execute_result"
    }
   ],
   "source": [
    "map_downtown = folium.Map(location=[latitude, longitude], zoom_start=13)\n",
    "for lat, lng, borough, neighborhood in zip(downtown['Latitude'], downtown['Longitude'], downtown['Borough'], downtown['Neighborhood']):\n",
    "    label = '{}, {}'.format(neighborhood, borough)\n",
    "    label = folium.Popup(label, parse_html=True)\n",
    "    folium.CircleMarker(\n",
    "        [lat, lng],\n",
    "        radius=5,\n",
    "        popup=label,\n",
    "        color='#f5425a',\n",
    "        fill=True,\n",
    "        fill_color='#f5425a',\n",
    "        fill_opacity=1,\n",
    "        parse_html=False).add_to(map_downtown)  \n",
    "map_downtown"
   ]
  },
  {
   "cell_type": "markdown",
   "metadata": {},
   "source": [
    "<p><strong>Getting all the venues in Downtown Toronto</strong></p>"
   ]
  },
  {
   "cell_type": "code",
   "execution_count": 17,
   "metadata": {},
   "outputs": [],
   "source": [
    "CLIENT_ID = '2IGBWCWEV040N5NA1OFGXZHSE3IGB0JBLMQK54LGUG2SYUMM'\n",
    "CLIENT_SECRET = 'E23X3LXXJKJOH5XIJI0VQBO2CCSEQVXNIIBYUGGFSMZSOGCS' \n",
    "VERSION = '20200430'\n",
    "LIMIT = 100"
   ]
  },
  {
   "cell_type": "code",
   "execution_count": 18,
   "metadata": {},
   "outputs": [],
   "source": [
    "#These functions will be use to get the venues info from Fousquare, clean it, and ut it in a dataframe\n",
    "def category(row):\n",
    "    try:\n",
    "        categories_list = row['categories']\n",
    "    except:\n",
    "        categories_list = row['venue.categories']\n",
    "    if len(categories_list) == 0:\n",
    "        return None\n",
    "    else:\n",
    "        return categories_list[0]['name']\n",
    "\n",
    "def getVenues(names, latitudes, longitudes, radius=500):\n",
    "    venues_list=[]\n",
    "    for name, lat, lng in zip(names, latitudes, longitudes):\n",
    "        url = 'https://api.foursquare.com/v2/venues/explore?&client_id={}&client_secret={}&v={}&ll={},{}&radius={}&limit={}'.format(\n",
    "            CLIENT_ID, CLIENT_SECRET, VERSION, lat, lng, radius, LIMIT)\n",
    "        results = requests.get(url).json()[\"response\"]['groups'][0]['items']\n",
    "        venues_list.append([(\n",
    "            name, \n",
    "            lat, \n",
    "            lng, \n",
    "            v['venue']['name'], \n",
    "            v['venue']['location']['lat'], \n",
    "            v['venue']['location']['lng'],  \n",
    "            v['venue']['categories'][0]['name']) for v in results])\n",
    "\n",
    "    venues = pd.DataFrame([item for venue_list in venues_list for item in venue_list])\n",
    "    venues.columns = ['Neighborhood', 'Neighborhood Latitude', 'Neighborhood Longitude', \n",
    "                  'Venue', 'Venue Latitude', 'Venue Longitude', 'Venue Category']\n",
    "    return(venues)"
   ]
  },
  {
   "cell_type": "code",
   "execution_count": 19,
   "metadata": {},
   "outputs": [
    {
     "name": "stdout",
     "output_type": "stream",
     "text": [
      "Downtown Toronto has 1223 venues.\n"
     ]
    },
    {
     "data": {
      "text/html": [
       "<div>\n",
       "<style scoped>\n",
       "    .dataframe tbody tr th:only-of-type {\n",
       "        vertical-align: middle;\n",
       "    }\n",
       "\n",
       "    .dataframe tbody tr th {\n",
       "        vertical-align: top;\n",
       "    }\n",
       "\n",
       "    .dataframe thead th {\n",
       "        text-align: right;\n",
       "    }\n",
       "</style>\n",
       "<table border=\"1\" class=\"dataframe\">\n",
       "  <thead>\n",
       "    <tr style=\"text-align: right;\">\n",
       "      <th></th>\n",
       "      <th>Neighborhood</th>\n",
       "      <th>Neighborhood Latitude</th>\n",
       "      <th>Neighborhood Longitude</th>\n",
       "      <th>Venue</th>\n",
       "      <th>Venue Latitude</th>\n",
       "      <th>Venue Longitude</th>\n",
       "      <th>Venue Category</th>\n",
       "    </tr>\n",
       "  </thead>\n",
       "  <tbody>\n",
       "    <tr>\n",
       "      <th>0</th>\n",
       "      <td>Rosedale</td>\n",
       "      <td>43.679563</td>\n",
       "      <td>-79.377529</td>\n",
       "      <td>Rosedale Park</td>\n",
       "      <td>43.682328</td>\n",
       "      <td>-79.378934</td>\n",
       "      <td>Playground</td>\n",
       "    </tr>\n",
       "    <tr>\n",
       "      <th>1</th>\n",
       "      <td>Rosedale</td>\n",
       "      <td>43.679563</td>\n",
       "      <td>-79.377529</td>\n",
       "      <td>Whitney Park</td>\n",
       "      <td>43.682036</td>\n",
       "      <td>-79.373788</td>\n",
       "      <td>Park</td>\n",
       "    </tr>\n",
       "    <tr>\n",
       "      <th>2</th>\n",
       "      <td>Rosedale</td>\n",
       "      <td>43.679563</td>\n",
       "      <td>-79.377529</td>\n",
       "      <td>Alex Murray Parkette</td>\n",
       "      <td>43.678300</td>\n",
       "      <td>-79.382773</td>\n",
       "      <td>Park</td>\n",
       "    </tr>\n",
       "    <tr>\n",
       "      <th>3</th>\n",
       "      <td>Rosedale</td>\n",
       "      <td>43.679563</td>\n",
       "      <td>-79.377529</td>\n",
       "      <td>Milkman's Lane</td>\n",
       "      <td>43.676352</td>\n",
       "      <td>-79.373842</td>\n",
       "      <td>Trail</td>\n",
       "    </tr>\n",
       "    <tr>\n",
       "      <th>4</th>\n",
       "      <td>St. James Town / Cabbagetown</td>\n",
       "      <td>43.667967</td>\n",
       "      <td>-79.367675</td>\n",
       "      <td>Cranberries</td>\n",
       "      <td>43.667843</td>\n",
       "      <td>-79.369407</td>\n",
       "      <td>Diner</td>\n",
       "    </tr>\n",
       "  </tbody>\n",
       "</table>\n",
       "</div>"
      ],
      "text/plain": [
       "                   Neighborhood  Neighborhood Latitude  \\\n",
       "0                      Rosedale              43.679563   \n",
       "1                      Rosedale              43.679563   \n",
       "2                      Rosedale              43.679563   \n",
       "3                      Rosedale              43.679563   \n",
       "4  St. James Town / Cabbagetown              43.667967   \n",
       "\n",
       "   Neighborhood Longitude                 Venue  Venue Latitude  \\\n",
       "0              -79.377529         Rosedale Park       43.682328   \n",
       "1              -79.377529          Whitney Park       43.682036   \n",
       "2              -79.377529  Alex Murray Parkette       43.678300   \n",
       "3              -79.377529        Milkman's Lane       43.676352   \n",
       "4              -79.367675           Cranberries       43.667843   \n",
       "\n",
       "   Venue Longitude Venue Category  \n",
       "0       -79.378934     Playground  \n",
       "1       -79.373788           Park  \n",
       "2       -79.382773           Park  \n",
       "3       -79.373842          Trail  \n",
       "4       -79.369407          Diner  "
      ]
     },
     "execution_count": 19,
     "metadata": {},
     "output_type": "execute_result"
    }
   ],
   "source": [
    "downtown_venues = getVenues(names=downtown['Neighborhood'], \n",
    "                            latitudes=downtown['Latitude'], longitudes=downtown['Longitude'])\n",
    "print('Downtown Toronto has {} venues.'.format(downtown_venues.shape[0]))\n",
    "downtown_venues.head()"
   ]
  },
  {
   "cell_type": "markdown",
   "metadata": {},
   "source": [
    "<p><strong>B. Clustering</strong></p>\n",
    "<p>Before clustering:</p>\n",
    "<ul><li>Convert categorical Venue Category to numeric, and put the categories as columns</li>\n",
    "    <li>Add the Neighborhoods column, and lace it as the first column</li>\n",
    "    <li>Group categories by neighborhood and get the mean</li></ul>"
   ]
  },
  {
   "cell_type": "code",
   "execution_count": 20,
   "metadata": {},
   "outputs": [
    {
     "data": {
      "text/html": [
       "<div>\n",
       "<style scoped>\n",
       "    .dataframe tbody tr th:only-of-type {\n",
       "        vertical-align: middle;\n",
       "    }\n",
       "\n",
       "    .dataframe tbody tr th {\n",
       "        vertical-align: top;\n",
       "    }\n",
       "\n",
       "    .dataframe thead th {\n",
       "        text-align: right;\n",
       "    }\n",
       "</style>\n",
       "<table border=\"1\" class=\"dataframe\">\n",
       "  <thead>\n",
       "    <tr style=\"text-align: right;\">\n",
       "      <th></th>\n",
       "      <th>Neighborhood</th>\n",
       "      <th>Yoga Studio</th>\n",
       "      <th>Afghan Restaurant</th>\n",
       "      <th>Airport</th>\n",
       "      <th>Airport Food Court</th>\n",
       "      <th>Airport Gate</th>\n",
       "      <th>Airport Lounge</th>\n",
       "      <th>Airport Service</th>\n",
       "      <th>Airport Terminal</th>\n",
       "      <th>American Restaurant</th>\n",
       "      <th>...</th>\n",
       "      <th>Thai Restaurant</th>\n",
       "      <th>Theater</th>\n",
       "      <th>Theme Restaurant</th>\n",
       "      <th>Trail</th>\n",
       "      <th>Train Station</th>\n",
       "      <th>Vegetarian / Vegan Restaurant</th>\n",
       "      <th>Video Game Store</th>\n",
       "      <th>Vietnamese Restaurant</th>\n",
       "      <th>Wine Bar</th>\n",
       "      <th>Women's Store</th>\n",
       "    </tr>\n",
       "  </thead>\n",
       "  <tbody>\n",
       "    <tr>\n",
       "      <th>0</th>\n",
       "      <td>Berczy Park</td>\n",
       "      <td>0.000000</td>\n",
       "      <td>0.000000</td>\n",
       "      <td>0.000000</td>\n",
       "      <td>0.000000</td>\n",
       "      <td>0.000000</td>\n",
       "      <td>0.000000</td>\n",
       "      <td>0.000000</td>\n",
       "      <td>0.000000</td>\n",
       "      <td>0.000000</td>\n",
       "      <td>...</td>\n",
       "      <td>0.017544</td>\n",
       "      <td>0.000000</td>\n",
       "      <td>0.000000</td>\n",
       "      <td>0.0</td>\n",
       "      <td>0.0</td>\n",
       "      <td>0.017544</td>\n",
       "      <td>0.0</td>\n",
       "      <td>0.0</td>\n",
       "      <td>0.0</td>\n",
       "      <td>0.0</td>\n",
       "    </tr>\n",
       "    <tr>\n",
       "      <th>1</th>\n",
       "      <td>CN Tower / King and Spadina / Railway Lands / ...</td>\n",
       "      <td>0.000000</td>\n",
       "      <td>0.000000</td>\n",
       "      <td>0.058824</td>\n",
       "      <td>0.058824</td>\n",
       "      <td>0.058824</td>\n",
       "      <td>0.117647</td>\n",
       "      <td>0.117647</td>\n",
       "      <td>0.117647</td>\n",
       "      <td>0.000000</td>\n",
       "      <td>...</td>\n",
       "      <td>0.000000</td>\n",
       "      <td>0.000000</td>\n",
       "      <td>0.000000</td>\n",
       "      <td>0.0</td>\n",
       "      <td>0.0</td>\n",
       "      <td>0.000000</td>\n",
       "      <td>0.0</td>\n",
       "      <td>0.0</td>\n",
       "      <td>0.0</td>\n",
       "      <td>0.0</td>\n",
       "    </tr>\n",
       "    <tr>\n",
       "      <th>2</th>\n",
       "      <td>Central Bay Street</td>\n",
       "      <td>0.015152</td>\n",
       "      <td>0.000000</td>\n",
       "      <td>0.000000</td>\n",
       "      <td>0.000000</td>\n",
       "      <td>0.000000</td>\n",
       "      <td>0.000000</td>\n",
       "      <td>0.000000</td>\n",
       "      <td>0.000000</td>\n",
       "      <td>0.000000</td>\n",
       "      <td>...</td>\n",
       "      <td>0.030303</td>\n",
       "      <td>0.000000</td>\n",
       "      <td>0.000000</td>\n",
       "      <td>0.0</td>\n",
       "      <td>0.0</td>\n",
       "      <td>0.015152</td>\n",
       "      <td>0.0</td>\n",
       "      <td>0.0</td>\n",
       "      <td>0.0</td>\n",
       "      <td>0.0</td>\n",
       "    </tr>\n",
       "    <tr>\n",
       "      <th>3</th>\n",
       "      <td>Christie</td>\n",
       "      <td>0.000000</td>\n",
       "      <td>0.000000</td>\n",
       "      <td>0.000000</td>\n",
       "      <td>0.000000</td>\n",
       "      <td>0.000000</td>\n",
       "      <td>0.000000</td>\n",
       "      <td>0.000000</td>\n",
       "      <td>0.000000</td>\n",
       "      <td>0.000000</td>\n",
       "      <td>...</td>\n",
       "      <td>0.000000</td>\n",
       "      <td>0.000000</td>\n",
       "      <td>0.000000</td>\n",
       "      <td>0.0</td>\n",
       "      <td>0.0</td>\n",
       "      <td>0.000000</td>\n",
       "      <td>0.0</td>\n",
       "      <td>0.0</td>\n",
       "      <td>0.0</td>\n",
       "      <td>0.0</td>\n",
       "    </tr>\n",
       "    <tr>\n",
       "      <th>4</th>\n",
       "      <td>Church and Wellesley</td>\n",
       "      <td>0.025641</td>\n",
       "      <td>0.012821</td>\n",
       "      <td>0.000000</td>\n",
       "      <td>0.000000</td>\n",
       "      <td>0.000000</td>\n",
       "      <td>0.000000</td>\n",
       "      <td>0.000000</td>\n",
       "      <td>0.000000</td>\n",
       "      <td>0.012821</td>\n",
       "      <td>...</td>\n",
       "      <td>0.012821</td>\n",
       "      <td>0.012821</td>\n",
       "      <td>0.012821</td>\n",
       "      <td>0.0</td>\n",
       "      <td>0.0</td>\n",
       "      <td>0.000000</td>\n",
       "      <td>0.0</td>\n",
       "      <td>0.0</td>\n",
       "      <td>0.0</td>\n",
       "      <td>0.0</td>\n",
       "    </tr>\n",
       "  </tbody>\n",
       "</table>\n",
       "<p>5 rows × 207 columns</p>\n",
       "</div>"
      ],
      "text/plain": [
       "                                        Neighborhood  Yoga Studio  \\\n",
       "0                                        Berczy Park     0.000000   \n",
       "1  CN Tower / King and Spadina / Railway Lands / ...     0.000000   \n",
       "2                                 Central Bay Street     0.015152   \n",
       "3                                           Christie     0.000000   \n",
       "4                               Church and Wellesley     0.025641   \n",
       "\n",
       "   Afghan Restaurant   Airport  Airport Food Court  Airport Gate  \\\n",
       "0           0.000000  0.000000            0.000000      0.000000   \n",
       "1           0.000000  0.058824            0.058824      0.058824   \n",
       "2           0.000000  0.000000            0.000000      0.000000   \n",
       "3           0.000000  0.000000            0.000000      0.000000   \n",
       "4           0.012821  0.000000            0.000000      0.000000   \n",
       "\n",
       "   Airport Lounge  Airport Service  Airport Terminal  American Restaurant  \\\n",
       "0        0.000000         0.000000          0.000000             0.000000   \n",
       "1        0.117647         0.117647          0.117647             0.000000   \n",
       "2        0.000000         0.000000          0.000000             0.000000   \n",
       "3        0.000000         0.000000          0.000000             0.000000   \n",
       "4        0.000000         0.000000          0.000000             0.012821   \n",
       "\n",
       "   ...  Thai Restaurant   Theater  Theme Restaurant  Trail  Train Station  \\\n",
       "0  ...         0.017544  0.000000          0.000000    0.0            0.0   \n",
       "1  ...         0.000000  0.000000          0.000000    0.0            0.0   \n",
       "2  ...         0.030303  0.000000          0.000000    0.0            0.0   \n",
       "3  ...         0.000000  0.000000          0.000000    0.0            0.0   \n",
       "4  ...         0.012821  0.012821          0.012821    0.0            0.0   \n",
       "\n",
       "   Vegetarian / Vegan Restaurant  Video Game Store  Vietnamese Restaurant  \\\n",
       "0                       0.017544               0.0                    0.0   \n",
       "1                       0.000000               0.0                    0.0   \n",
       "2                       0.015152               0.0                    0.0   \n",
       "3                       0.000000               0.0                    0.0   \n",
       "4                       0.000000               0.0                    0.0   \n",
       "\n",
       "   Wine Bar  Women's Store  \n",
       "0       0.0            0.0  \n",
       "1       0.0            0.0  \n",
       "2       0.0            0.0  \n",
       "3       0.0            0.0  \n",
       "4       0.0            0.0  \n",
       "\n",
       "[5 rows x 207 columns]"
      ]
     },
     "execution_count": 20,
     "metadata": {},
     "output_type": "execute_result"
    }
   ],
   "source": [
    "downtown_onehot = pd.get_dummies(downtown_venues[['Venue Category']], prefix=\"\", prefix_sep=\"\")\n",
    "downtown_onehot['Neighborhood'] = downtown_venues['Neighborhood'] \n",
    "fixed_columns = [downtown_onehot.columns[-1]] + list(downtown_onehot.columns[:-1])\n",
    "downtown_onehot = downtown_onehot[fixed_columns]\n",
    "downtown_grouped = downtown_onehot.groupby('Neighborhood').mean().reset_index()\n",
    "\n",
    "downtown_grouped.head()"
   ]
  },
  {
   "cell_type": "markdown",
   "metadata": {},
   "source": [
    "<p><strong>K-Means Clustering</strong></p>"
   ]
  },
  {
   "cell_type": "code",
   "execution_count": 21,
   "metadata": {},
   "outputs": [
    {
     "data": {
      "text/plain": [
       "array([1, 2, 1, 3, 1, 1, 1, 1, 1, 1, 1, 1, 1, 0, 1, 1, 1, 1, 1])"
      ]
     },
     "execution_count": 21,
     "metadata": {},
     "output_type": "execute_result"
    }
   ],
   "source": [
    "kclusters = 4\n",
    "downtown_grouped_clustering = downtown_grouped.drop('Neighborhood', 1)\n",
    "kmeans = KMeans(n_clusters=kclusters, random_state=0).fit(downtown_grouped_clustering)\n",
    "\n",
    "#cluster labels\n",
    "kmeans.labels_ "
   ]
  }
 ],
 "metadata": {
  "kernelspec": {
   "display_name": "Python 3",
   "language": "python",
   "name": "python3"
  },
  "language_info": {
   "codemirror_mode": {
    "name": "ipython",
    "version": 3
   },
   "file_extension": ".py",
   "mimetype": "text/x-python",
   "name": "python",
   "nbconvert_exporter": "python",
   "pygments_lexer": "ipython3",
   "version": "3.8.2"
  }
 },
 "nbformat": 4,
 "nbformat_minor": 4
}
