{
 "cells": [
  {
   "cell_type": "markdown",
   "metadata": {},
   "source": [
    "<h1>Capstone Project Week 3 Assignment</h1>\n",
    "<p>By Andres Lopez</p>\n",
    "<br>\n",
    "<p>This notebook has three parts:</p>\n",
    "<ul><li>Web Scraping and Dataframe preprocessing</li><li>Adding Latitude and Longitude to the Dataframe</li>\n",
    "    <li>Exploring and Clustering</li></ul>"
   ]
  },
  {
   "cell_type": "markdown",
   "metadata": {},
   "source": [
    "<h3>Part I - Web scraping and dataframe pre-processing</h3>"
   ]
  },
  {
   "cell_type": "code",
   "execution_count": 1,
   "metadata": {},
   "outputs": [],
   "source": [
    "import pandas as pd\n",
    "import requests\n",
    "from bs4 import BeautifulSoup"
   ]
  },
  {
   "cell_type": "code",
   "execution_count": 2,
   "metadata": {},
   "outputs": [],
   "source": [
    "r = requests.get('https://en.wikipedia.org/wiki/List_of_postal_codes_of_Canada:_M')\n",
    "soup = BeautifulSoup(r.text, 'html.parser')\n",
    "results = soup.find_all('table', attrs={'class':'wikitable sortable'})"
   ]
  },
  {
   "cell_type": "markdown",
   "metadata": {},
   "source": [
    "<p><strong>The cells of the first row will be store in a list to create the headers of the dataframe</strong></p>"
   ]
  },
  {
   "cell_type": "code",
   "execution_count": 3,
   "metadata": {},
   "outputs": [],
   "source": [
    "table_obj = results[0] #gets the first row of the table\n",
    "headers = table_obj.find_all('th') #gets each heaader\n",
    "col_head = [] \n",
    "for x in headers:\n",
    "    header_text = x\n",
    "    col_head.append(header_text.text[0:-1])"
   ]
  },
  {
   "cell_type": "markdown",
   "metadata": {},
   "source": [
    "<p><strong>The cells of all the other rows will be store in three lists, each with the content of one column</strong></p>"
   ]
  },
  {
   "cell_type": "code",
   "execution_count": 4,
   "metadata": {},
   "outputs": [],
   "source": [
    "rows = table_obj.find_all('tr')\n",
    "rows.pop(0) #the first row is the header row, already stored in the col_head list so it must be deleted here\n",
    "postal = []\n",
    "borough = []\n",
    "neigh = []\n",
    "for x in rows: #iteration to get the text in each row\n",
    "    c_content =[]\n",
    "    cells_obj = x\n",
    "    cells_list = cells_obj.find_all('td')\n",
    "    for y in cells_list: #iteration to get the text of each cell in a row\n",
    "        cell_text = y\n",
    "        c_content.append(cell_text.text[0:-1])\n",
    "    if 'Not assigned' not in c_content:  #if the Borough column says 'Not Assigned' the row will be ignored\n",
    "        postal.append(c_content[0])\n",
    "        borough.append(c_content[1])\n",
    "        if c_content[2] == \"\":       #If the Neighnorhood cell is blank, the text of the Bourough column will be copied\n",
    "            c_content[2] = c_content[1]\n",
    "        neigh.append(c_content[2])"
   ]
  },
  {
   "cell_type": "markdown",
   "metadata": {},
   "source": [
    "<p><strong>Making sure that no postal code is listed twice</strong></p>\n",
    "<p>The assignment instructions indicate that there is at least one postal code listed twice. However, that doesn't seem the case. I'm assuming the table has been edited since the assignment isntructions were posted.</p>"
   ]
  },
  {
   "cell_type": "code",
   "execution_count": 5,
   "metadata": {},
   "outputs": [
    {
     "name": "stdout",
     "output_type": "stream",
     "text": [
      "There are no duplicate zip codes\n"
     ]
    }
   ],
   "source": [
    "if len(postal) == len(set(postal)):\n",
    "    print(\"There are no duplicate zip codes\")\n",
    "else:\n",
    "    print(\"There are uplicate zip codes\")"
   ]
  },
  {
   "cell_type": "markdown",
   "metadata": {},
   "source": [
    "<p><strong>Create a dataframe using the lists with the data in the Wikipidia table</strong></p>"
   ]
  },
  {
   "cell_type": "code",
   "execution_count": 6,
   "metadata": {},
   "outputs": [
    {
     "data": {
      "text/html": [
       "<div>\n",
       "<style scoped>\n",
       "    .dataframe tbody tr th:only-of-type {\n",
       "        vertical-align: middle;\n",
       "    }\n",
       "\n",
       "    .dataframe tbody tr th {\n",
       "        vertical-align: top;\n",
       "    }\n",
       "\n",
       "    .dataframe thead th {\n",
       "        text-align: right;\n",
       "    }\n",
       "</style>\n",
       "<table border=\"1\" class=\"dataframe\">\n",
       "  <thead>\n",
       "    <tr style=\"text-align: right;\">\n",
       "      <th></th>\n",
       "      <th>index</th>\n",
       "      <th>Postal code</th>\n",
       "      <th>Borough</th>\n",
       "      <th>Neighborhood</th>\n",
       "    </tr>\n",
       "  </thead>\n",
       "  <tbody>\n",
       "    <tr>\n",
       "      <th>0</th>\n",
       "      <td>6</td>\n",
       "      <td>M1B</td>\n",
       "      <td>Scarborough</td>\n",
       "      <td>Malvern / Rouge</td>\n",
       "    </tr>\n",
       "    <tr>\n",
       "      <th>1</th>\n",
       "      <td>12</td>\n",
       "      <td>M1C</td>\n",
       "      <td>Scarborough</td>\n",
       "      <td>Rouge Hill / Port Union / Highland Creek</td>\n",
       "    </tr>\n",
       "    <tr>\n",
       "      <th>2</th>\n",
       "      <td>18</td>\n",
       "      <td>M1E</td>\n",
       "      <td>Scarborough</td>\n",
       "      <td>Guildwood / Morningside / West Hill</td>\n",
       "    </tr>\n",
       "    <tr>\n",
       "      <th>3</th>\n",
       "      <td>22</td>\n",
       "      <td>M1G</td>\n",
       "      <td>Scarborough</td>\n",
       "      <td>Woburn</td>\n",
       "    </tr>\n",
       "    <tr>\n",
       "      <th>4</th>\n",
       "      <td>26</td>\n",
       "      <td>M1H</td>\n",
       "      <td>Scarborough</td>\n",
       "      <td>Cedarbrae</td>\n",
       "    </tr>\n",
       "  </tbody>\n",
       "</table>\n",
       "</div>"
      ],
      "text/plain": [
       "   index Postal code      Borough                              Neighborhood\n",
       "0      6         M1B  Scarborough                           Malvern / Rouge\n",
       "1     12         M1C  Scarborough  Rouge Hill / Port Union / Highland Creek\n",
       "2     18         M1E  Scarborough       Guildwood / Morningside / West Hill\n",
       "3     22         M1G  Scarborough                                    Woburn\n",
       "4     26         M1H  Scarborough                                 Cedarbrae"
      ]
     },
     "execution_count": 6,
     "metadata": {},
     "output_type": "execute_result"
    }
   ],
   "source": [
    "table = {col_head[0]:postal, col_head[1]:borough, col_head[2]:neigh}\n",
    "df_toronto = pd.DataFrame(table)\n",
    "df_toronto.sort_values(by=['Postal code'], inplace=True) #sorting is ncessary to add the coordenates columns later \n",
    "df_toronto.reset_index(inplace=True)\n",
    "df_toronto.head()"
   ]
  },
  {
   "cell_type": "code",
   "execution_count": 7,
   "metadata": {},
   "outputs": [
    {
     "data": {
      "text/plain": [
       "(103, 4)"
      ]
     },
     "execution_count": 7,
     "metadata": {},
     "output_type": "execute_result"
    }
   ],
   "source": [
    "df_toronto.shape"
   ]
  },
  {
   "cell_type": "markdown",
   "metadata": {},
   "source": [
    "<h3>Part II - Adding Latitude and Longitude</h3>\n",
    "<p>Since the assignment gives the option, I used the csv file instead of the Geocoder Python package</p>"
   ]
  },
  {
   "cell_type": "code",
   "execution_count": 8,
   "metadata": {},
   "outputs": [
    {
     "data": {
      "text/plain": [
       "(103, 3)"
      ]
     },
     "execution_count": 8,
     "metadata": {},
     "output_type": "execute_result"
    }
   ],
   "source": [
    "location = \"http://cocl.us/Geospatial_data\"\n",
    "df_coord = pd.read_csv(location)\n",
    "#sort the dataframe by postal code to make sure it aligns correctly with the df_toronto dataframe\n",
    "df_coord.sort_values(by=['Postal Code'], inplace=True) \n",
    "#let's make sure it has the same number of rows than df_toronto\n",
    "df_coord.shape"
   ]
  },
  {
   "cell_type": "code",
   "execution_count": 9,
   "metadata": {},
   "outputs": [
    {
     "data": {
      "text/html": [
       "<div>\n",
       "<style scoped>\n",
       "    .dataframe tbody tr th:only-of-type {\n",
       "        vertical-align: middle;\n",
       "    }\n",
       "\n",
       "    .dataframe tbody tr th {\n",
       "        vertical-align: top;\n",
       "    }\n",
       "\n",
       "    .dataframe thead th {\n",
       "        text-align: right;\n",
       "    }\n",
       "</style>\n",
       "<table border=\"1\" class=\"dataframe\">\n",
       "  <thead>\n",
       "    <tr style=\"text-align: right;\">\n",
       "      <th></th>\n",
       "      <th>Postal Code</th>\n",
       "      <th>Latitude</th>\n",
       "      <th>Longitude</th>\n",
       "    </tr>\n",
       "  </thead>\n",
       "  <tbody>\n",
       "    <tr>\n",
       "      <th>0</th>\n",
       "      <td>M1B</td>\n",
       "      <td>43.806686</td>\n",
       "      <td>-79.194353</td>\n",
       "    </tr>\n",
       "    <tr>\n",
       "      <th>1</th>\n",
       "      <td>M1C</td>\n",
       "      <td>43.784535</td>\n",
       "      <td>-79.160497</td>\n",
       "    </tr>\n",
       "    <tr>\n",
       "      <th>2</th>\n",
       "      <td>M1E</td>\n",
       "      <td>43.763573</td>\n",
       "      <td>-79.188711</td>\n",
       "    </tr>\n",
       "    <tr>\n",
       "      <th>3</th>\n",
       "      <td>M1G</td>\n",
       "      <td>43.770992</td>\n",
       "      <td>-79.216917</td>\n",
       "    </tr>\n",
       "    <tr>\n",
       "      <th>4</th>\n",
       "      <td>M1H</td>\n",
       "      <td>43.773136</td>\n",
       "      <td>-79.239476</td>\n",
       "    </tr>\n",
       "  </tbody>\n",
       "</table>\n",
       "</div>"
      ],
      "text/plain": [
       "  Postal Code   Latitude  Longitude\n",
       "0         M1B  43.806686 -79.194353\n",
       "1         M1C  43.784535 -79.160497\n",
       "2         M1E  43.763573 -79.188711\n",
       "3         M1G  43.770992 -79.216917\n",
       "4         M1H  43.773136 -79.239476"
      ]
     },
     "execution_count": 9,
     "metadata": {},
     "output_type": "execute_result"
    }
   ],
   "source": [
    "#let's take a look at the dataframe\n",
    "df_coord.head()"
   ]
  },
  {
   "cell_type": "markdown",
   "metadata": {},
   "source": [
    "<p><strong>Now we add the two columns with the coordentaes to the intitial dataframe</strong></p>\n",
    "<p>The dataframe with the Neighborhoods (df_toronto) and the dataframe with the coordinates (df_coord)\n",
    "both have the same number of rows and both are sorted by zip code, so it should be safe to add the coordinates from  \n",
    "df_coord to df_toronto</p>"
   ]
  },
  {
   "cell_type": "code",
   "execution_count": 10,
   "metadata": {},
   "outputs": [
    {
     "data": {
      "text/html": [
       "<div>\n",
       "<style scoped>\n",
       "    .dataframe tbody tr th:only-of-type {\n",
       "        vertical-align: middle;\n",
       "    }\n",
       "\n",
       "    .dataframe tbody tr th {\n",
       "        vertical-align: top;\n",
       "    }\n",
       "\n",
       "    .dataframe thead th {\n",
       "        text-align: right;\n",
       "    }\n",
       "</style>\n",
       "<table border=\"1\" class=\"dataframe\">\n",
       "  <thead>\n",
       "    <tr style=\"text-align: right;\">\n",
       "      <th></th>\n",
       "      <th>index</th>\n",
       "      <th>Postal code</th>\n",
       "      <th>Borough</th>\n",
       "      <th>Neighborhood</th>\n",
       "      <th>Latitude</th>\n",
       "      <th>Longitude</th>\n",
       "    </tr>\n",
       "  </thead>\n",
       "  <tbody>\n",
       "    <tr>\n",
       "      <th>0</th>\n",
       "      <td>6</td>\n",
       "      <td>M1B</td>\n",
       "      <td>Scarborough</td>\n",
       "      <td>Malvern / Rouge</td>\n",
       "      <td>43.806686</td>\n",
       "      <td>-79.194353</td>\n",
       "    </tr>\n",
       "    <tr>\n",
       "      <th>1</th>\n",
       "      <td>12</td>\n",
       "      <td>M1C</td>\n",
       "      <td>Scarborough</td>\n",
       "      <td>Rouge Hill / Port Union / Highland Creek</td>\n",
       "      <td>43.784535</td>\n",
       "      <td>-79.160497</td>\n",
       "    </tr>\n",
       "    <tr>\n",
       "      <th>2</th>\n",
       "      <td>18</td>\n",
       "      <td>M1E</td>\n",
       "      <td>Scarborough</td>\n",
       "      <td>Guildwood / Morningside / West Hill</td>\n",
       "      <td>43.763573</td>\n",
       "      <td>-79.188711</td>\n",
       "    </tr>\n",
       "    <tr>\n",
       "      <th>3</th>\n",
       "      <td>22</td>\n",
       "      <td>M1G</td>\n",
       "      <td>Scarborough</td>\n",
       "      <td>Woburn</td>\n",
       "      <td>43.770992</td>\n",
       "      <td>-79.216917</td>\n",
       "    </tr>\n",
       "    <tr>\n",
       "      <th>4</th>\n",
       "      <td>26</td>\n",
       "      <td>M1H</td>\n",
       "      <td>Scarborough</td>\n",
       "      <td>Cedarbrae</td>\n",
       "      <td>43.773136</td>\n",
       "      <td>-79.239476</td>\n",
       "    </tr>\n",
       "  </tbody>\n",
       "</table>\n",
       "</div>"
      ],
      "text/plain": [
       "   index Postal code      Borough                              Neighborhood  \\\n",
       "0      6         M1B  Scarborough                           Malvern / Rouge   \n",
       "1     12         M1C  Scarborough  Rouge Hill / Port Union / Highland Creek   \n",
       "2     18         M1E  Scarborough       Guildwood / Morningside / West Hill   \n",
       "3     22         M1G  Scarborough                                    Woburn   \n",
       "4     26         M1H  Scarborough                                 Cedarbrae   \n",
       "\n",
       "    Latitude  Longitude  \n",
       "0  43.806686 -79.194353  \n",
       "1  43.784535 -79.160497  \n",
       "2  43.763573 -79.188711  \n",
       "3  43.770992 -79.216917  \n",
       "4  43.773136 -79.239476  "
      ]
     },
     "execution_count": 10,
     "metadata": {},
     "output_type": "execute_result"
    }
   ],
   "source": [
    "df_toronto['Latitude'] = df_coord['Latitude']\n",
    "df_toronto['Longitude'] = df_coord['Longitude']\n",
    "df_toronto.head()"
   ]
  },
  {
   "cell_type": "markdown",
   "metadata": {},
   "source": [
    "<h3>Part III - Exploring and Clustering</h3>\n",
    "<p><strong>A. Exploring</strong></p>"
   ]
  },
  {
   "cell_type": "code",
   "execution_count": 11,
   "metadata": {},
   "outputs": [],
   "source": [
    "from geopy.geocoders import Nominatim\n",
    "import folium\n",
    "import matplotlib.cm as cm\n",
    "import matplotlib.colors as colors\n",
    "from sklearn.cluster import KMeans\n",
    "import folium\n",
    "import json\n",
    "from pandas.io.json import json_normalize\n",
    "%matplotlib inline"
   ]
  },
  {
   "cell_type": "markdown",
   "metadata": {},
   "source": [
    "<p><strong>Map with all the neighborhoods in Toronto</strong></p>"
   ]
  },
  {
   "cell_type": "code",
   "execution_count": 12,
   "metadata": {},
   "outputs": [
    {
     "name": "stdout",
     "output_type": "stream",
     "text": [
      "Toronto Coordinates: 43.6534817, -79.3839347.\n"
     ]
    }
   ],
   "source": [
    "address = 'Toronto, ON'\n",
    "geolocator = Nominatim(user_agent=\"tnto_explorer\")\n",
    "location = geolocator.geocode(address)\n",
    "latitude = location.latitude\n",
    "longitude = location.longitude\n",
    "print('Toronto Coordinates: {}, {}.'.format(latitude, longitude))"
   ]
  },
  {
   "cell_type": "code",
   "execution_count": 13,
   "metadata": {
    "scrolled": true
   },
   "outputs": [
    {
     "data": {
      "text/html": [
       "<div style=\"width:100%;\"><div style=\"position:relative;width:100%;height:0;padding-bottom:60%;\"><iframe src=\"about:blank\" style=\"position:absolute;width:100%;height:100%;left:0;top:0;border:none !important;\" data-html=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 onload=\"this.contentDocument.open();this.contentDocument.write(atob(this.getAttribute('data-html')));this.contentDocument.close();\" allowfullscreen webkitallowfullscreen mozallowfullscreen></iframe></div></div>"
      ],
      "text/plain": [
       "<folium.folium.Map at 0x1cd3a100>"
      ]
     },
     "execution_count": 13,
     "metadata": {},
     "output_type": "execute_result"
    }
   ],
   "source": [
    "map_toronto = folium.Map(location=[latitude, longitude], zoom_start=10)\n",
    "for lat, lng, borough, neighborhood in zip(df_toronto['Latitude'], \n",
    "        df_toronto['Longitude'], df_toronto['Borough'], df_toronto['Neighborhood']):\n",
    "    label = '{}, {}'.format(neighborhood, borough)\n",
    "    label = folium.Popup(label, parse_html=True)\n",
    "    folium.CircleMarker(\n",
    "        [lat, lng],\n",
    "        radius=2,\n",
    "        popup=label,\n",
    "        color='#3186cc',\n",
    "        fill=True,\n",
    "        fill_color='#3186cc',\n",
    "        parse_html=False).add_to(map_toronto)  \n",
    "map_toronto"
   ]
  },
  {
   "cell_type": "markdown",
   "metadata": {},
   "source": [
    "<p><strong>Now let's focus on Downtown Toronto and explore it</strong></p>"
   ]
  },
  {
   "cell_type": "code",
   "execution_count": 14,
   "metadata": {},
   "outputs": [
    {
     "name": "stdout",
     "output_type": "stream",
     "text": [
      "Downtown Toronto has 19 neighborhoods.\n"
     ]
    }
   ],
   "source": [
    "downtown = df_toronto[df_toronto['Borough'] == 'Downtown Toronto'].reset_index(drop=True)\n",
    "print('Downtown Toronto has {} neighborhoods.'.format(downtown.shape[0]))"
   ]
  },
  {
   "cell_type": "code",
   "execution_count": 15,
   "metadata": {},
   "outputs": [
    {
     "name": "stdout",
     "output_type": "stream",
     "text": [
      "Downtown Toronto Coordinates: 43.6563221, -79.3809161.\n"
     ]
    }
   ],
   "source": [
    "address = 'Downtown Toronto, ON'\n",
    "geolocator = Nominatim(user_agent=\"dtwn_explorer\")\n",
    "location = geolocator.geocode(address)\n",
    "latitude = location.latitude\n",
    "longitude = location.longitude\n",
    "print('Downtown Toronto Coordinates: {}, {}.'.format(latitude, longitude))"
   ]
  },
  {
   "cell_type": "code",
   "execution_count": 16,
   "metadata": {},
   "outputs": [
    {
     "data": {
      "text/html": [
       "<div style=\"width:100%;\"><div style=\"position:relative;width:100%;height:0;padding-bottom:60%;\"><iframe src=\"about:blank\" style=\"position:absolute;width:100%;height:100%;left:0;top:0;border:none !important;\" data-html=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 onload=\"this.contentDocument.open();this.contentDocument.write(atob(this.getAttribute('data-html')));this.contentDocument.close();\" allowfullscreen webkitallowfullscreen mozallowfullscreen></iframe></div></div>"
      ],
      "text/plain": [
       "<folium.folium.Map at 0x1ce05568>"
      ]
     },
     "execution_count": 16,
     "metadata": {},
     "output_type": "execute_result"
    }
   ],
   "source": [
    "map_downtown = folium.Map(location=[latitude, longitude], zoom_start=13)\n",
    "for lat, lng, borough, neighborhood in zip(downtown['Latitude'], downtown['Longitude'], downtown['Borough'], downtown['Neighborhood']):\n",
    "    label = '{}, {}'.format(neighborhood, borough)\n",
    "    label = folium.Popup(label, parse_html=True)\n",
    "    folium.CircleMarker(\n",
    "        [lat, lng],\n",
    "        radius=5,\n",
    "        popup=label,\n",
    "        color='#f5425a',\n",
    "        fill=True,\n",
    "        fill_color='#f5425a',\n",
    "        fill_opacity=1,\n",
    "        parse_html=False).add_to(map_downtown)  \n",
    "map_downtown"
   ]
  },
  {
   "cell_type": "markdown",
   "metadata": {},
   "source": [
    "<p><strong>Getting all the venues in Downtown Toronto</strong></p>"
   ]
  },
  {
   "cell_type": "code",
   "execution_count": 17,
   "metadata": {},
   "outputs": [],
   "source": [
    "CLIENT_ID = '2IGBWCWEV040N5NA1OFGXZHSE3IGB0JBLMQK54LGUG2SYUMM'\n",
    "CLIENT_SECRET = 'E23X3LXXJKJOH5XIJI0VQBO2CCSEQVXNIIBYUGGFSMZSOGCS' \n",
    "VERSION = '20200430'\n",
    "LIMIT = 100"
   ]
  },
  {
   "cell_type": "code",
   "execution_count": 18,
   "metadata": {},
   "outputs": [],
   "source": [
    "#These functions will be use to get the venues info from Fousquare, clean it, and ut it in a dataframe\n",
    "def category(row):\n",
    "    try:\n",
    "        categories_list = row['categories']\n",
    "    except:\n",
    "        categories_list = row['venue.categories']\n",
    "    if len(categories_list) == 0:\n",
    "        return None\n",
    "    else:\n",
    "        return categories_list[0]['name']\n",
    "\n",
    "def getVenues(names, latitudes, longitudes, radius=500):\n",
    "    venues_list=[]\n",
    "    for name, lat, lng in zip(names, latitudes, longitudes):\n",
    "        url = 'https://api.foursquare.com/v2/venues/explore?&client_id={}&client_secret={}&v={}&ll={},{}&radius={}&limit={}'.format(\n",
    "            CLIENT_ID, CLIENT_SECRET, VERSION, lat, lng, radius, LIMIT)\n",
    "        results = requests.get(url).json()[\"response\"]['groups'][0]['items']\n",
    "        venues_list.append([(\n",
    "            name, \n",
    "            lat, \n",
    "            lng, \n",
    "            v['venue']['name'], \n",
    "            v['venue']['location']['lat'], \n",
    "            v['venue']['location']['lng'],  \n",
    "            v['venue']['categories'][0]['name']) for v in results])\n",
    "\n",
    "    venues = pd.DataFrame([item for venue_list in venues_list for item in venue_list])\n",
    "    venues.columns = ['Neighborhood', 'Neighborhood Latitude', 'Neighborhood Longitude', \n",
    "                  'Venue', 'Venue Latitude', 'Venue Longitude', 'Venue Category']\n",
    "    return(venues)"
   ]
  },
  {
   "cell_type": "code",
   "execution_count": 19,
   "metadata": {},
   "outputs": [
    {
     "name": "stdout",
     "output_type": "stream",
     "text": [
      "Downtown Toronto has 1223 venues.\n"
     ]
    },
    {
     "data": {
      "text/html": [
       "<div>\n",
       "<style scoped>\n",
       "    .dataframe tbody tr th:only-of-type {\n",
       "        vertical-align: middle;\n",
       "    }\n",
       "\n",
       "    .dataframe tbody tr th {\n",
       "        vertical-align: top;\n",
       "    }\n",
       "\n",
       "    .dataframe thead th {\n",
       "        text-align: right;\n",
       "    }\n",
       "</style>\n",
       "<table border=\"1\" class=\"dataframe\">\n",
       "  <thead>\n",
       "    <tr style=\"text-align: right;\">\n",
       "      <th></th>\n",
       "      <th>Neighborhood</th>\n",
       "      <th>Neighborhood Latitude</th>\n",
       "      <th>Neighborhood Longitude</th>\n",
       "      <th>Venue</th>\n",
       "      <th>Venue Latitude</th>\n",
       "      <th>Venue Longitude</th>\n",
       "      <th>Venue Category</th>\n",
       "    </tr>\n",
       "  </thead>\n",
       "  <tbody>\n",
       "    <tr>\n",
       "      <th>0</th>\n",
       "      <td>Rosedale</td>\n",
       "      <td>43.679563</td>\n",
       "      <td>-79.377529</td>\n",
       "      <td>Rosedale Park</td>\n",
       "      <td>43.682328</td>\n",
       "      <td>-79.378934</td>\n",
       "      <td>Playground</td>\n",
       "    </tr>\n",
       "    <tr>\n",
       "      <th>1</th>\n",
       "      <td>Rosedale</td>\n",
       "      <td>43.679563</td>\n",
       "      <td>-79.377529</td>\n",
       "      <td>Whitney Park</td>\n",
       "      <td>43.682036</td>\n",
       "      <td>-79.373788</td>\n",
       "      <td>Park</td>\n",
       "    </tr>\n",
       "    <tr>\n",
       "      <th>2</th>\n",
       "      <td>Rosedale</td>\n",
       "      <td>43.679563</td>\n",
       "      <td>-79.377529</td>\n",
       "      <td>Alex Murray Parkette</td>\n",
       "      <td>43.678300</td>\n",
       "      <td>-79.382773</td>\n",
       "      <td>Park</td>\n",
       "    </tr>\n",
       "    <tr>\n",
       "      <th>3</th>\n",
       "      <td>Rosedale</td>\n",
       "      <td>43.679563</td>\n",
       "      <td>-79.377529</td>\n",
       "      <td>Milkman's Lane</td>\n",
       "      <td>43.676352</td>\n",
       "      <td>-79.373842</td>\n",
       "      <td>Trail</td>\n",
       "    </tr>\n",
       "    <tr>\n",
       "      <th>4</th>\n",
       "      <td>St. James Town / Cabbagetown</td>\n",
       "      <td>43.667967</td>\n",
       "      <td>-79.367675</td>\n",
       "      <td>Cranberries</td>\n",
       "      <td>43.667843</td>\n",
       "      <td>-79.369407</td>\n",
       "      <td>Diner</td>\n",
       "    </tr>\n",
       "  </tbody>\n",
       "</table>\n",
       "</div>"
      ],
      "text/plain": [
       "                   Neighborhood  Neighborhood Latitude  \\\n",
       "0                      Rosedale              43.679563   \n",
       "1                      Rosedale              43.679563   \n",
       "2                      Rosedale              43.679563   \n",
       "3                      Rosedale              43.679563   \n",
       "4  St. James Town / Cabbagetown              43.667967   \n",
       "\n",
       "   Neighborhood Longitude                 Venue  Venue Latitude  \\\n",
       "0              -79.377529         Rosedale Park       43.682328   \n",
       "1              -79.377529          Whitney Park       43.682036   \n",
       "2              -79.377529  Alex Murray Parkette       43.678300   \n",
       "3              -79.377529        Milkman's Lane       43.676352   \n",
       "4              -79.367675           Cranberries       43.667843   \n",
       "\n",
       "   Venue Longitude Venue Category  \n",
       "0       -79.378934     Playground  \n",
       "1       -79.373788           Park  \n",
       "2       -79.382773           Park  \n",
       "3       -79.373842          Trail  \n",
       "4       -79.369407          Diner  "
      ]
     },
     "execution_count": 19,
     "metadata": {},
     "output_type": "execute_result"
    }
   ],
   "source": [
    "downtown_venues = getVenues(names=downtown['Neighborhood'], \n",
    "                            latitudes=downtown['Latitude'], longitudes=downtown['Longitude'])\n",
    "print('Downtown Toronto has {} venues.'.format(downtown_venues.shape[0]))\n",
    "downtown_venues.head()"
   ]
  },
  {
   "cell_type": "markdown",
   "metadata": {},
   "source": [
    "<p><strong>B. Clustering</strong></p>\n",
    "<p>Before clustering:</p>\n",
    "<ul><li>Convert categorical Venue Category to numeric, and put the categories as columns</li>\n",
    "    <li>Add the Neighborhoods column, and lace it as the first column</li>\n",
    "    <li>Group categories by neighborhood and get the mean</li></ul>"
   ]
  },
  {
   "cell_type": "code",
   "execution_count": 20,
   "metadata": {},
   "outputs": [
    {
     "data": {
      "text/html": [
       "<div>\n",
       "<style scoped>\n",
       "    .dataframe tbody tr th:only-of-type {\n",
       "        vertical-align: middle;\n",
       "    }\n",
       "\n",
       "    .dataframe tbody tr th {\n",
       "        vertical-align: top;\n",
       "    }\n",
       "\n",
       "    .dataframe thead th {\n",
       "        text-align: right;\n",
       "    }\n",
       "</style>\n",
       "<table border=\"1\" class=\"dataframe\">\n",
       "  <thead>\n",
       "    <tr style=\"text-align: right;\">\n",
       "      <th></th>\n",
       "      <th>Neighborhood</th>\n",
       "      <th>Yoga Studio</th>\n",
       "      <th>Afghan Restaurant</th>\n",
       "      <th>Airport</th>\n",
       "      <th>Airport Food Court</th>\n",
       "      <th>Airport Gate</th>\n",
       "      <th>Airport Lounge</th>\n",
       "      <th>Airport Service</th>\n",
       "      <th>Airport Terminal</th>\n",
       "      <th>American Restaurant</th>\n",
       "      <th>...</th>\n",
       "      <th>Thai Restaurant</th>\n",
       "      <th>Theater</th>\n",
       "      <th>Theme Restaurant</th>\n",
       "      <th>Trail</th>\n",
       "      <th>Train Station</th>\n",
       "      <th>Vegetarian / Vegan Restaurant</th>\n",
       "      <th>Video Game Store</th>\n",
       "      <th>Vietnamese Restaurant</th>\n",
       "      <th>Wine Bar</th>\n",
       "      <th>Women's Store</th>\n",
       "    </tr>\n",
       "  </thead>\n",
       "  <tbody>\n",
       "    <tr>\n",
       "      <th>0</th>\n",
       "      <td>Berczy Park</td>\n",
       "      <td>0.000000</td>\n",
       "      <td>0.000000</td>\n",
       "      <td>0.000000</td>\n",
       "      <td>0.000000</td>\n",
       "      <td>0.000000</td>\n",
       "      <td>0.000000</td>\n",
       "      <td>0.000000</td>\n",
       "      <td>0.000000</td>\n",
       "      <td>0.000000</td>\n",
       "      <td>...</td>\n",
       "      <td>0.017544</td>\n",
       "      <td>0.000000</td>\n",
       "      <td>0.000000</td>\n",
       "      <td>0.0</td>\n",
       "      <td>0.0</td>\n",
       "      <td>0.017544</td>\n",
       "      <td>0.0</td>\n",
       "      <td>0.0</td>\n",
       "      <td>0.0</td>\n",
       "      <td>0.0</td>\n",
       "    </tr>\n",
       "    <tr>\n",
       "      <th>1</th>\n",
       "      <td>CN Tower / King and Spadina / Railway Lands / ...</td>\n",
       "      <td>0.000000</td>\n",
       "      <td>0.000000</td>\n",
       "      <td>0.058824</td>\n",
       "      <td>0.058824</td>\n",
       "      <td>0.058824</td>\n",
       "      <td>0.117647</td>\n",
       "      <td>0.117647</td>\n",
       "      <td>0.117647</td>\n",
       "      <td>0.000000</td>\n",
       "      <td>...</td>\n",
       "      <td>0.000000</td>\n",
       "      <td>0.000000</td>\n",
       "      <td>0.000000</td>\n",
       "      <td>0.0</td>\n",
       "      <td>0.0</td>\n",
       "      <td>0.000000</td>\n",
       "      <td>0.0</td>\n",
       "      <td>0.0</td>\n",
       "      <td>0.0</td>\n",
       "      <td>0.0</td>\n",
       "    </tr>\n",
       "    <tr>\n",
       "      <th>2</th>\n",
       "      <td>Central Bay Street</td>\n",
       "      <td>0.015152</td>\n",
       "      <td>0.000000</td>\n",
       "      <td>0.000000</td>\n",
       "      <td>0.000000</td>\n",
       "      <td>0.000000</td>\n",
       "      <td>0.000000</td>\n",
       "      <td>0.000000</td>\n",
       "      <td>0.000000</td>\n",
       "      <td>0.000000</td>\n",
       "      <td>...</td>\n",
       "      <td>0.030303</td>\n",
       "      <td>0.000000</td>\n",
       "      <td>0.000000</td>\n",
       "      <td>0.0</td>\n",
       "      <td>0.0</td>\n",
       "      <td>0.015152</td>\n",
       "      <td>0.0</td>\n",
       "      <td>0.0</td>\n",
       "      <td>0.0</td>\n",
       "      <td>0.0</td>\n",
       "    </tr>\n",
       "    <tr>\n",
       "      <th>3</th>\n",
       "      <td>Christie</td>\n",
       "      <td>0.000000</td>\n",
       "      <td>0.000000</td>\n",
       "      <td>0.000000</td>\n",
       "      <td>0.000000</td>\n",
       "      <td>0.000000</td>\n",
       "      <td>0.000000</td>\n",
       "      <td>0.000000</td>\n",
       "      <td>0.000000</td>\n",
       "      <td>0.000000</td>\n",
       "      <td>...</td>\n",
       "      <td>0.000000</td>\n",
       "      <td>0.000000</td>\n",
       "      <td>0.000000</td>\n",
       "      <td>0.0</td>\n",
       "      <td>0.0</td>\n",
       "      <td>0.000000</td>\n",
       "      <td>0.0</td>\n",
       "      <td>0.0</td>\n",
       "      <td>0.0</td>\n",
       "      <td>0.0</td>\n",
       "    </tr>\n",
       "    <tr>\n",
       "      <th>4</th>\n",
       "      <td>Church and Wellesley</td>\n",
       "      <td>0.025641</td>\n",
       "      <td>0.012821</td>\n",
       "      <td>0.000000</td>\n",
       "      <td>0.000000</td>\n",
       "      <td>0.000000</td>\n",
       "      <td>0.000000</td>\n",
       "      <td>0.000000</td>\n",
       "      <td>0.000000</td>\n",
       "      <td>0.012821</td>\n",
       "      <td>...</td>\n",
       "      <td>0.012821</td>\n",
       "      <td>0.012821</td>\n",
       "      <td>0.012821</td>\n",
       "      <td>0.0</td>\n",
       "      <td>0.0</td>\n",
       "      <td>0.000000</td>\n",
       "      <td>0.0</td>\n",
       "      <td>0.0</td>\n",
       "      <td>0.0</td>\n",
       "      <td>0.0</td>\n",
       "    </tr>\n",
       "  </tbody>\n",
       "</table>\n",
       "<p>5 rows × 207 columns</p>\n",
       "</div>"
      ],
      "text/plain": [
       "                                        Neighborhood  Yoga Studio  \\\n",
       "0                                        Berczy Park     0.000000   \n",
       "1  CN Tower / King and Spadina / Railway Lands / ...     0.000000   \n",
       "2                                 Central Bay Street     0.015152   \n",
       "3                                           Christie     0.000000   \n",
       "4                               Church and Wellesley     0.025641   \n",
       "\n",
       "   Afghan Restaurant   Airport  Airport Food Court  Airport Gate  \\\n",
       "0           0.000000  0.000000            0.000000      0.000000   \n",
       "1           0.000000  0.058824            0.058824      0.058824   \n",
       "2           0.000000  0.000000            0.000000      0.000000   \n",
       "3           0.000000  0.000000            0.000000      0.000000   \n",
       "4           0.012821  0.000000            0.000000      0.000000   \n",
       "\n",
       "   Airport Lounge  Airport Service  Airport Terminal  American Restaurant  \\\n",
       "0        0.000000         0.000000          0.000000             0.000000   \n",
       "1        0.117647         0.117647          0.117647             0.000000   \n",
       "2        0.000000         0.000000          0.000000             0.000000   \n",
       "3        0.000000         0.000000          0.000000             0.000000   \n",
       "4        0.000000         0.000000          0.000000             0.012821   \n",
       "\n",
       "   ...  Thai Restaurant   Theater  Theme Restaurant  Trail  Train Station  \\\n",
       "0  ...         0.017544  0.000000          0.000000    0.0            0.0   \n",
       "1  ...         0.000000  0.000000          0.000000    0.0            0.0   \n",
       "2  ...         0.030303  0.000000          0.000000    0.0            0.0   \n",
       "3  ...         0.000000  0.000000          0.000000    0.0            0.0   \n",
       "4  ...         0.012821  0.012821          0.012821    0.0            0.0   \n",
       "\n",
       "   Vegetarian / Vegan Restaurant  Video Game Store  Vietnamese Restaurant  \\\n",
       "0                       0.017544               0.0                    0.0   \n",
       "1                       0.000000               0.0                    0.0   \n",
       "2                       0.015152               0.0                    0.0   \n",
       "3                       0.000000               0.0                    0.0   \n",
       "4                       0.000000               0.0                    0.0   \n",
       "\n",
       "   Wine Bar  Women's Store  \n",
       "0       0.0            0.0  \n",
       "1       0.0            0.0  \n",
       "2       0.0            0.0  \n",
       "3       0.0            0.0  \n",
       "4       0.0            0.0  \n",
       "\n",
       "[5 rows x 207 columns]"
      ]
     },
     "execution_count": 20,
     "metadata": {},
     "output_type": "execute_result"
    }
   ],
   "source": [
    "downtown_onehot = pd.get_dummies(downtown_venues[['Venue Category']], prefix=\"\", prefix_sep=\"\")\n",
    "downtown_onehot['Neighborhood'] = downtown_venues['Neighborhood'] \n",
    "fixed_columns = [downtown_onehot.columns[-1]] + list(downtown_onehot.columns[:-1])\n",
    "downtown_onehot = downtown_onehot[fixed_columns]\n",
    "downtown_grouped = downtown_onehot.groupby('Neighborhood').mean().reset_index()\n",
    "\n",
    "downtown_grouped.head()"
   ]
  },
  {
   "cell_type": "markdown",
   "metadata": {},
   "source": [
    "<p><strong>K-Means Clustering</strong></p>"
   ]
  },
  {
   "cell_type": "code",
   "execution_count": 21,
   "metadata": {},
   "outputs": [
    {
     "data": {
      "text/plain": [
       "array([1, 2, 1, 3, 1, 1, 1, 1, 1, 1, 1, 1, 1, 0, 1, 1, 1, 1, 1])"
      ]
     },
     "execution_count": 21,
     "metadata": {},
     "output_type": "execute_result"
    }
   ],
   "source": [
    "kclusters = 4\n",
    "downtown_grouped_clustering = downtown_grouped.drop('Neighborhood', 1)\n",
    "kmeans = KMeans(n_clusters=kclusters, random_state=0).fit(downtown_grouped_clustering)\n",
    "\n",
    "#cluster labels\n",
    "kmeans.labels_ "
   ]
  }
 ],
 "metadata": {
  "kernelspec": {
   "display_name": "Python 3",
   "language": "python",
   "name": "python3"
  },
  "language_info": {
   "codemirror_mode": {
    "name": "ipython",
    "version": 3
   },
   "file_extension": ".py",
   "mimetype": "text/x-python",
   "name": "python",
   "nbconvert_exporter": "python",
   "pygments_lexer": "ipython3",
   "version": "3.8.2"
  }
 },
 "nbformat": 4,
 "nbformat_minor": 4
}
